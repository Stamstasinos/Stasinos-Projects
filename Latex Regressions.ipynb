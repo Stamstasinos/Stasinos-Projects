{
 "cells": [
  {
   "cell_type": "markdown",
   "id": "32b8cace-f4a2-4fd0-9565-394a136e9f89",
   "metadata": {},
   "source": [
    "$$\n",
    "\\text{EuroscepticVoteShare}_i = \\beta_0 + \\beta_1 \\cdot \\hat{\\text{GDP}}_{it} \n",
    "+ \\beta_2 \\cdot (\\hat{\\text{GDP}}_{it} \\times \\text{Sector}_i^{(s)}) + \\beta_3 \\cdot\\text{Sector}_i^{(s)} +\\text{Population Density}_i+ \\text{Country Fixed Effect}_i+\\varepsilon_i\n",
    "$$"
   ]
  },
  {
   "cell_type": "markdown",
   "id": "f9ce691e-6415-4758-a81c-79f533c2eaf5",
   "metadata": {},
   "source": [
    "$$\n",
    "\\text{GDP}_it = \\pi_0 + \\pi_1 \\cdot \\text{ETS}_t \n",
    "+ \\pi_2 \\cdot (\\text{ETS}_t \\times \\text{Sector}_i^{(s)}) +\\pi_3 \\cdot\\text{Sector}_i^{(s)}+\\text{Population Density}_i+ \\text{Country Fixed Effect}_i+ u_i\n",
    "$$"
   ]
  },
  {
   "cell_type": "markdown",
   "id": "87a003e7-fc23-4803-beef-23935345133e",
   "metadata": {},
   "source": [
    "- $ \\text{EuroscepticVoteShare}_i $: Share of votes for eurosceptic parties in region $i$\n",
    "- $ \\hat{\\text{GDP}}_i $: Predicted GDP per capita of region $i$ and period $t$, instrumented via the first-stage regression\n",
    "- $ \\text{Sector}_i^{(s)} $: Binary variable equal to 1 if region $i$ is highly exposed to sector $s$\n",
    "  (where $ s \\in S $, with $ S = \\{ \\text{Agriculture}, \\text{Tourism}, \\text{Mining}, \\text{Vehicles}, \\text{Cooling}, \\text{GHG emissions}\\} $)\n",
    "- $ \\text{Population Density}_i$: dendity of population per NUTS 2\n",
    "- $\\text{Country Fixed Effect}_i$: 1 if the country i and 0 otherwhise\n",
    "- $ \\hat{\\text{GDP}}_it \\times \\text{Sector}_i^{(s)} $: Interaction term capturing the heterogeneous effect of income by sectoral exposure\n",
    "- $\\text{ETS}_t \\times \\text{Sector}_i^{(s)} $: Instrumental variable for the endogenous interaction term\n",
    "- $ \\text{ETS}_t $: EU Emissions Trading System price in period $t$ (exogenous)\n",
    "- $ \\varepsilon_i $: Structural error term\n",
    "- $ u_i $: First-stage error term\n",
    "\n",
    "**Note:**  \n",
    "$ \\hat{\\text{GDP}}_it $ and the interaction terms are obtained from the first stage of the 2SLS regression, where GDP × sector interactions are instrumented using ETS price × sector interactions."
   ]
  },
  {
   "cell_type": "code",
   "execution_count": null,
   "id": "e7abb781-8536-4451-86e9-ee8ab2eb4ccd",
   "metadata": {},
   "outputs": [],
   "source": []
  },
  {
   "cell_type": "code",
   "execution_count": null,
   "id": "b10175e0-c8c7-41d5-bfb4-a47bb2ce7d95",
   "metadata": {},
   "outputs": [],
   "source": []
  }
 ],
 "metadata": {
  "kernelspec": {
   "display_name": "Python 3 (ipykernel)",
   "language": "python",
   "name": "python3"
  },
  "language_info": {
   "codemirror_mode": {
    "name": "ipython",
    "version": 3
   },
   "file_extension": ".py",
   "mimetype": "text/x-python",
   "name": "python",
   "nbconvert_exporter": "python",
   "pygments_lexer": "ipython3",
   "version": "3.10.13"
  }
 },
 "nbformat": 4,
 "nbformat_minor": 5
}
