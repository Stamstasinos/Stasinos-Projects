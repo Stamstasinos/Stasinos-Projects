{
 "cells": [
  {
   "cell_type": "code",
   "execution_count": 1,
   "id": "8a88d287-524e-488f-b3f3-1550ef2934b8",
   "metadata": {},
   "outputs": [
    {
     "name": "stderr",
     "output_type": "stream",
     "text": [
      "/opt/conda/lib/python3.10/site-packages/pandas/core/computation/expressions.py:21: UserWarning: Pandas requires version '2.8.4' or newer of 'numexpr' (version '2.7.3' currently installed).\n",
      "  from pandas.core.computation.check import NUMEXPR_INSTALLED\n"
     ]
    },
    {
     "name": "stdout",
     "output_type": "stream",
     "text": [
      "Collecting openpyxl\n",
      "  Using cached openpyxl-3.1.5-py2.py3-none-any.whl.metadata (2.5 kB)\n",
      "Collecting et-xmlfile (from openpyxl)\n",
      "  Using cached et_xmlfile-2.0.0-py3-none-any.whl.metadata (2.7 kB)\n",
      "Using cached openpyxl-3.1.5-py2.py3-none-any.whl (250 kB)\n",
      "Using cached et_xmlfile-2.0.0-py3-none-any.whl (18 kB)\n",
      "Installing collected packages: et-xmlfile, openpyxl\n",
      "Successfully installed et-xmlfile-2.0.0 openpyxl-3.1.5\n"
     ]
    }
   ],
   "source": [
    "import pandas as pd\n",
    "!pip install openpyxl\n",
    "df = pd.read_excel('elections.xlsx')\n"
   ]
  },
  {
   "cell_type": "code",
   "execution_count": 2,
   "id": "3bdbfa3f-ac52-4cd5-aee0-a796e3ec49b8",
   "metadata": {},
   "outputs": [
    {
     "data": {
      "text/html": [
       "<div>\n",
       "<style scoped>\n",
       "    .dataframe tbody tr th:only-of-type {\n",
       "        vertical-align: middle;\n",
       "    }\n",
       "\n",
       "    .dataframe tbody tr th {\n",
       "        vertical-align: top;\n",
       "    }\n",
       "\n",
       "    .dataframe thead th {\n",
       "        text-align: right;\n",
       "    }\n",
       "</style>\n",
       "<table border=\"1\" class=\"dataframe\">\n",
       "  <thead>\n",
       "    <tr style=\"text-align: right;\">\n",
       "      <th></th>\n",
       "      <th>NUTS code</th>\n",
       "      <th>NUTS name</th>\n",
       "      <th>Election year</th>\n",
       "      <th>votes</th>\n",
       "    </tr>\n",
       "  </thead>\n",
       "  <tbody>\n",
       "    <tr>\n",
       "      <th>0</th>\n",
       "      <td>AT111</td>\n",
       "      <td>Mittelburgenland</td>\n",
       "      <td>2019</td>\n",
       "      <td>14.475959</td>\n",
       "    </tr>\n",
       "    <tr>\n",
       "      <th>1</th>\n",
       "      <td>AT112</td>\n",
       "      <td>Nordburgenland</td>\n",
       "      <td>2019</td>\n",
       "      <td>16.588823</td>\n",
       "    </tr>\n",
       "    <tr>\n",
       "      <th>2</th>\n",
       "      <td>AT113</td>\n",
       "      <td>Südburgenland</td>\n",
       "      <td>2019</td>\n",
       "      <td>19.706807</td>\n",
       "    </tr>\n",
       "    <tr>\n",
       "      <th>3</th>\n",
       "      <td>AT121</td>\n",
       "      <td>Mostviertel-Eisenwurzen</td>\n",
       "      <td>2019</td>\n",
       "      <td>16.256302</td>\n",
       "    </tr>\n",
       "    <tr>\n",
       "      <th>4</th>\n",
       "      <td>AT122</td>\n",
       "      <td>Niederösterreich-Süd</td>\n",
       "      <td>2019</td>\n",
       "      <td>19.201712</td>\n",
       "    </tr>\n",
       "  </tbody>\n",
       "</table>\n",
       "</div>"
      ],
      "text/plain": [
       "  NUTS code                NUTS name  Election year      votes\n",
       "0     AT111         Mittelburgenland           2019  14.475959\n",
       "1     AT112           Nordburgenland           2019  16.588823\n",
       "2     AT113            Südburgenland           2019  19.706807\n",
       "3     AT121  Mostviertel-Eisenwurzen           2019  16.256302\n",
       "4     AT122     Niederösterreich-Süd           2019  19.201712"
      ]
     },
     "execution_count": 2,
     "metadata": {},
     "output_type": "execute_result"
    }
   ],
   "source": [
    "df.head()"
   ]
  },
  {
   "cell_type": "code",
   "execution_count": 4,
   "id": "65514c10-41e1-40f6-9a82-cd3df2a6ac12",
   "metadata": {},
   "outputs": [
    {
     "name": "stdout",
     "output_type": "stream",
     "text": [
      "    Region      votes\n",
      "0     AT11  16.923863\n",
      "1     AT12  16.469133\n",
      "2     AT13  12.825826\n",
      "3     AT21  20.490223\n",
      "4     AT22  18.847857\n",
      "..     ...        ...\n",
      "237   SI04   3.990104\n",
      "238   SK01  28.812950\n",
      "239   SK02  39.494548\n",
      "240   SK03  41.343012\n",
      "241   SK04  35.576121\n",
      "\n",
      "[242 rows x 2 columns]\n"
     ]
    }
   ],
   "source": [
    "df['Region'] = df['NUTS code'].str[:4]\n",
    "result = df.groupby('Region')[' votes'].mean().reset_index() # Group by the new 'Region' column and calculate the mean of 'votes' for each group\n",
    "print(result)"
   ]
  },
  {
   "cell_type": "code",
   "execution_count": 13,
   "id": "a4624de1-19b0-468b-9888-bb6092eb7363",
   "metadata": {},
   "outputs": [
    {
     "name": "stdout",
     "output_type": "stream",
     "text": [
      "Columns in result DataFrame: Index(['Region', ' votes'], dtype='object')\n",
      "Columns in regions_df DataFrame: Index(['code', 'region', 'electrcity', 'manufacturing', 'mining',\n",
      "       'construction ', 'transportaion'],\n",
      "      dtype='object')\n",
      "    Region      votes              region electrcity manufacturing mining  \\\n",
      "0     AT11  16.923863          Burgenland        136          1076     22   \n",
      "1     AT12  16.469133    Niederösterreich        674          6298    161   \n",
      "2     AT13  12.825826                Wien        382          3635     15   \n",
      "3     AT21  20.490223             Kärnten        370          2535     52   \n",
      "4     AT22  18.847857          Steiermark        958          4808    127   \n",
      "..     ...        ...                 ...        ...           ...    ...   \n",
      "237   SI04   3.990104   Zahodna Slovenija        576          9818     38   \n",
      "238   SK01  28.812950   Bratislavský kraj        222         10505     56   \n",
      "239   SK02  39.494548   Západné Slovensko        237         28450     35   \n",
      "240   SK03  41.343012   Stredné Slovensko        160         20855     86   \n",
      "241   SK04  35.576121  Východné Slovensko         48         21303    140   \n",
      "\n",
      "    construction  transportaion  \n",
      "0            1899           571  \n",
      "1            8161          3248  \n",
      "2            7440          5031  \n",
      "3            3211          1259  \n",
      "4            6230          2497  \n",
      "..            ...           ...  \n",
      "237         10803          4895  \n",
      "238         10492          5318  \n",
      "239         34036          9259  \n",
      "240         33522          5003  \n",
      "241         32817          4909  \n",
      "\n",
      "[242 rows x 8 columns]\n"
     ]
    }
   ],
   "source": [
    "regions_df = pd.read_excel('Regions.xlsx')\n",
    "print(\"Columns in result DataFrame:\", result.columns) # I print column names to check\n",
    "print(\"Columns in regions_df DataFrame:\", regions_df.columns)\n",
    "regions_df.rename(columns={'code': 'Region'}, inplace=True) # If column names don't match, rename them\n",
    "combined_df = result.merge(regions_df, on='Region', how='inner') # Now I merge them using the 'Region' column\n",
    "print(combined_df)\n",
    "\n"
   ]
  },
  {
   "cell_type": "code",
   "execution_count": 19,
   "id": "ab13c2e4-25bd-4778-a86e-f726961ad6ef",
   "metadata": {},
   "outputs": [
    {
     "name": "stdout",
     "output_type": "stream",
     "text": [
      "    Region      votes              region electrcity manufacturing mining  \\\n",
      "0     AT11  16.923863          Burgenland        136          1076     22   \n",
      "1     AT12  16.469133    Niederösterreich        674          6298    161   \n",
      "2     AT13  12.825826                Wien        382          3635     15   \n",
      "3     AT21  20.490223             Kärnten        370          2535     52   \n",
      "4     AT22  18.847857          Steiermark        958          4808    127   \n",
      "..     ...        ...                 ...        ...           ...    ...   \n",
      "232   SI04   3.990104   Zahodna Slovenija        576          9818     38   \n",
      "233   SK01  28.812950   Bratislavský kraj        222         10505     56   \n",
      "234   SK02  39.494548   Západné Slovensko        237         28450     35   \n",
      "235   SK03  41.343012   Stredné Slovensko        160         20855     86   \n",
      "236   SK04  35.576121  Východné Slovensko         48         21303    140   \n",
      "\n",
      "    construction  transportaion   2012   2013   2014   2015   2016   2017  \\\n",
      "0            1899           571  23000  23400  23800  25100  25500  26100   \n",
      "1            8161          3248  28000  28200  28600  29500  30200  30900   \n",
      "2            7440          5031  42400  42300  42100  42700  43600  43200   \n",
      "3            3211          1259  29200  29200  30100  30500  30800  31800   \n",
      "4            6230          2497  31000  30800  31500  32100  33100  34300   \n",
      "..            ...           ...    ...    ...    ...    ...    ...    ...   \n",
      "232         10803          4895  25700  25800  26400  27100  28100  30000   \n",
      "233         10492          5318  49700  51600  51700  53900  51600  50800   \n",
      "234         34036          9259  18800  18700  19300  19500  18800  18600   \n",
      "235         33522          5003  15700  15900  16500  17400  16500  16500   \n",
      "236         32817          4909  13600  13800  14400  15200  14300  14800   \n",
      "\n",
      "      2018   2019   2020   2021   2022   2023  \n",
      "0    26700  27200  26100  28200  30800  32200  \n",
      "1    32000  33100  30800  33100  36500  37500  \n",
      "2    44900  45600  43800  47600  50500  52500  \n",
      "3    33300  34100  33100  35500  39600  41300  \n",
      "4    35100  36200  34400  37000  40900  42600  \n",
      "..     ...    ...    ...    ...    ...    ...  \n",
      "232  31600  33100  32100  35400  38700  42800  \n",
      "233  51300  51400  51700  52300  54000  56500  \n",
      "234  19100  20400  20900  22200  22900  26600  \n",
      "235  17100  18000  18000  20400  21800  23300  \n",
      "236  15400  15500  16100  17900  18900  20700  \n",
      "\n",
      "[237 rows x 20 columns]\n"
     ]
    }
   ],
   "source": [
    "gdp1_df= pd.read_excel('GDP1.xlsx')\n",
    "gdp1_df.rename(columns={'TIME': 'Region'}, inplace=True)\n",
    "# Merge the full GDP data with the combined_df\n",
    "final_combined_df = combined_df.merge(gdp1_df, on='Region', how='inner')\n",
    "print(final_combined_df)"
   ]
  },
  {
   "cell_type": "markdown",
   "id": "b76e0e93-c012-4ef5-9568-500e108e0d5e",
   "metadata": {},
   "source": [
    "\n",
    "import pandas as pd\n",
    "!pip install openpyxl\n",
    "df = pd.read_excel('final_dataset_with_tourism.xlsx')"
   ]
  },
  {
   "cell_type": "code",
   "execution_count": null,
   "id": "42dc5791-c952-4d71-a3bd-d4009487b50d",
   "metadata": {},
   "outputs": [],
   "source": [
    "head(df)"
   ]
  }
 ],
 "metadata": {
  "kernelspec": {
   "display_name": "Python 3 (ipykernel)",
   "language": "python",
   "name": "python3"
  },
  "language_info": {
   "codemirror_mode": {
    "name": "ipython",
    "version": 3
   },
   "file_extension": ".py",
   "mimetype": "text/x-python",
   "name": "python",
   "nbconvert_exporter": "python",
   "pygments_lexer": "ipython3",
   "version": "3.10.13"
  }
 },
 "nbformat": 4,
 "nbformat_minor": 5
}
